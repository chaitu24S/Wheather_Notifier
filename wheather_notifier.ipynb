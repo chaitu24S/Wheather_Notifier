{
 "cells": [
  {
   "cell_type": "markdown",
   "id": "bc553ef0",
   "metadata": {},
   "source": [
    "## Importing libraries"
   ]
  },
  {
   "cell_type": "code",
   "execution_count": 2,
   "id": "fd46d331",
   "metadata": {},
   "outputs": [],
   "source": [
    "import requests\n",
    "from plyer import notification\n",
    "import schedule\n",
    "import time"
   ]
  },
  {
   "cell_type": "code",
   "execution_count": null,
   "id": "91e567fa",
   "metadata": {},
   "outputs": [],
   "source": [
    "# Your API Key from OpenWeatherMap\n",
    "API_KEY = 'https://www.google.com/search?q=weather+thane&rlz=1C1CHBF_enIN1131IN1131&oq=wea&gs_lcrp=EgZjaHJvbWUqEQgBECMYJxhGGIACGIAEGIoFMgYIABBFGDkyEQgBECMYJxhGGIACGIAEGIoFMg0IAhAAGLEDGMkDGIAEMgYIAxBFGD0yBggEEEUYPTIGCAUQRRhBMgYIBhBFGD0yBggHEEUYPNIBCDQ3MDhqMGo3qAIAsAIA&sourceid=chrome&ie=UTF-8'\n"
   ]
  },
  {
   "cell_type": "code",
   "execution_count": null,
   "id": "8a57ba1b",
   "metadata": {},
   "outputs": [],
   "source": []
  },
  {
   "cell_type": "code",
   "execution_count": null,
   "id": "bbcfa29f",
   "metadata": {},
   "outputs": [],
   "source": []
  },
  {
   "cell_type": "code",
   "execution_count": null,
   "id": "b27eee8e",
   "metadata": {},
   "outputs": [],
   "source": []
  }
 ],
 "metadata": {
  "kernelspec": {
   "display_name": "base",
   "language": "python",
   "name": "python3"
  },
  "language_info": {
   "codemirror_mode": {
    "name": "ipython",
    "version": 3
   },
   "file_extension": ".py",
   "mimetype": "text/x-python",
   "name": "python",
   "nbconvert_exporter": "python",
   "pygments_lexer": "ipython3",
   "version": "3.12.7"
  }
 },
 "nbformat": 4,
 "nbformat_minor": 5
}
